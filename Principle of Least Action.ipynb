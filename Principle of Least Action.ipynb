{
 "cells": [
  {
   "cell_type": "code",
   "execution_count": 1,
   "metadata": {},
   "outputs": [],
   "source": [
    "%matplotlib inline"
   ]
  },
  {
   "cell_type": "code",
   "execution_count": 50,
   "metadata": {},
   "outputs": [],
   "source": [
    "import seaborn as sns\n",
    "from math import sqrt, pow,tan,atan,pi,tau\n",
    "import numpy as np, pandas as pd\n",
    "import matplotlib\n",
    "from matplotlib.pyplot import plot\n",
    "import matplotlib.pyplot\n",
    "from scipy.optimize import newton\n",
    "sns.set(style=\"whitegrid\", color_codes=True)\n",
    "sns.set(font_scale=1)\n",
    "\n",
    "matplotlib.rcParams['figure.figsize'] = (8.0, 8.0)"
   ]
  },
  {
   "cell_type": "markdown",
   "metadata": {},
   "source": [
    "# Principle of Least Action"
   ]
  },
  {
   "cell_type": "markdown",
   "metadata": {},
   "source": [
    "Assume a particle *p* travelling from (0,y) to (1,0) through two mediums:"
   ]
  },
  {
   "cell_type": "markdown",
   "metadata": {},
   "source": [
    "```\n",
    "a. (0,y)\n",
    "|  .              M2\n",
    "|    .\n",
    "|_____.______________\n",
    "|      .\n",
    "|       .         M1\n",
    "|        .\n",
    "|_________b (1,0)____\n",
    "```"
   ]
  },
  {
   "cell_type": "markdown",
   "metadata": {},
   "source": [
    "\n",
    "We want to compute the path a-> b that minimizes time.\n",
    "#### Assumptions:\n",
    "* The speed in material m1 is $v_1$\n",
    "* The speed in material m2 is $v_2$\n"
   ]
  },
  {
   "cell_type": "markdown",
   "metadata": {},
   "source": [
    "The intersection point is at (x, $y_1$).  We want to find the value of $x$ that minimizes time $t$"
   ]
  },
  {
   "cell_type": "markdown",
   "metadata": {},
   "source": [
    "\n",
    "Distance $d = d_1+ d_2 = \\sqrt{x^2 + y_2^2} + \\sqrt{(1-x)^2 + y_1^2}$\n",
    "\n",
    "$d = \\sqrt{x^2 + y_2^2} + \\sqrt{(1-x)^2 + y_1^2}$"
   ]
  },
  {
   "cell_type": "markdown",
   "metadata": {},
   "source": [
    "$t = \\frac{d}{v}$, so"
   ]
  },
  {
   "cell_type": "markdown",
   "metadata": {},
   "source": [
    "\n",
    "$t_1 =  \\frac{1}{v_1} \\sqrt{x^2 + y_2^2} , t_2 = \\frac{1}{v_2}  \\sqrt{1+x^2 - 2x +  y_1^2}$"
   ]
  },
  {
   "cell_type": "markdown",
   "metadata": {},
   "source": [
    "And we want to find the value $x$ such that $\\frac{dt}{dx}$ = 0\n",
    "\n",
    "In other words, we want $\\frac{dt_1}{dx} + \\frac{dt_2}{dx} = 0$"
   ]
  },
  {
   "cell_type": "markdown",
   "metadata": {},
   "source": [
    "To solve this will require using the chain rule"
   ]
  },
  {
   "cell_type": "markdown",
   "metadata": {},
   "source": [
    "$\\frac{dt}{dx} = \\frac{dt}{dz}\\cdot \\frac{dz}{dx}  $\n",
    "\n"
   ]
  },
  {
   "cell_type": "markdown",
   "metadata": {},
   "source": [
    "where\n",
    "\n",
    "$z_1 = x^2 + y_2^2$\n",
    "\n",
    "$ z_2= 1+ x^2 - 2x+y_1^2$\n",
    "\n",
    "\n",
    "\n",
    "$\\frac{dz_1}{dx} = 2x$, $\\frac{dz_2}{dx} = 2x-2$"
   ]
  },
  {
   "cell_type": "markdown",
   "metadata": {},
   "source": [
    "$t_1 = \\frac{1}{v_1}z_1^\\frac{1}{2} , t_2 = \\frac{1}{v_2}z_2^\\frac{1}{2}$\n",
    "\n"
   ]
  },
  {
   "cell_type": "markdown",
   "metadata": {},
   "source": [
    "$\\frac{dt_1}{dz_1} = \\frac{1}{2v_1}z_1^{-\\frac{1}{2} }$\n",
    "\n",
    "$ \\frac{dt_2}{dz_2} =  \\frac{1}{2v_2}z_2^{-\\frac{1}{2}}$"
   ]
  },
  {
   "cell_type": "markdown",
   "metadata": {},
   "source": [
    "So\n",
    "\n",
    "$ \\frac{dt_1}{dx} = \\frac{dt_1}{dz_1} \\cdot \\frac{dz_1}{dx}  = \\frac{1}{2v_1}z_1^{-\\frac{1}{2} } \\cdot 2x  = \\frac{1}{2v_1}(x^2+y_2^2)^{-\\frac{1}{2} } \\cdot 2x $\n"
   ]
  },
  {
   "cell_type": "markdown",
   "metadata": {},
   "source": [
    "\n",
    "$ \\frac{dt_2}{dx} = \\frac{dt_2}{dz_2} \\cdot \\frac{dz_2}{dx} = \\frac{1}{2v_2}z_2^{-\\frac{1}{2}} \\cdot (2x-2)  = \\frac{1}{2 v_2}(1+x^2-2x+y_1^2)^{-\\frac{1}{2}} \\cdot (2x-2) $"
   ]
  },
  {
   "cell_type": "markdown",
   "metadata": {},
   "source": [
    "$ \\frac{dt}{dx} =  \\frac{dt_1}{dx} + \\frac{dt_2}{dx} $"
   ]
  },
  {
   "cell_type": "markdown",
   "metadata": {},
   "source": [
    "$ \\frac{dt}{dx} = \\frac{1}{2v_1} \\frac{2x}{\\sqrt{x^2+y_2^2}}     + \\frac{1}{2 v_2}  \\frac{(2x-2)}{ \\sqrt{1+x^2-2x+y_1^2}}   $"
   ]
  },
  {
   "cell_type": "markdown",
   "metadata": {},
   "source": [
    "\n",
    "\n",
    "And we want to find the value of $x$ for which "
   ]
  },
  {
   "cell_type": "markdown",
   "metadata": {},
   "source": [
    "\n",
    "\n",
    "$\\frac{dt}{dx} =\\frac{dt_1}{dx} + \\frac{dt_2}{dx} = 0 $"
   ]
  },
  {
   "cell_type": "markdown",
   "metadata": {},
   "source": [
    "$ \\frac{1}{2v_1}(x^2+y_2^2)^{-\\frac{1}{2} } \\cdot 2x  + \\frac{1}{2 v_2}(1+x^2-2x+y_1^2)^{-\\frac{1}{2}} \\cdot (2x-2)  = 0 $"
   ]
  },
  {
   "cell_type": "markdown",
   "metadata": {},
   "source": [
    "$ \\frac{1}{2v_1}(x^2+y_2^2)^{-\\frac{1}{2} } \\cdot 2x  = -1 \\cdot  \\frac{1}{2v_2}(1+x^2-2x+y_1^2)^{-\\frac{1}{2}} \\cdot (2x-2)    $"
   ]
  },
  {
   "cell_type": "markdown",
   "metadata": {},
   "source": [
    "$ \\frac{1}{4v_1^2}(x^2+y_2^2)^{-1 } \\cdot 4x^2 =   - \\frac{1}{4 v_2^2}(1+x^2-2x+y_1^2)^{-1} \\cdot (2x-2)^2    $"
   ]
  },
  {
   "cell_type": "markdown",
   "metadata": {},
   "source": [
    "$   4 v_2^2 x^2  (1+x^2-2x+y_1^2) =  - (v_1^2)(x^2+y_2^2)     (2x-2)^2    $"
   ]
  },
  {
   "cell_type": "markdown",
   "metadata": {},
   "source": [
    "Which is a royal pain to solve analytically. Let's do it numerically."
   ]
  },
  {
   "cell_type": "markdown",
   "metadata": {},
   "source": [
    "IF we set $y_1 = y_2 = \\frac{1}{2}$ and $v_1=2, v_2=1$, then there is some pair of angles $\\theta_1, \\theta_2$ that meet the above condition, and we can compute them at least numerically by finding $x$"
   ]
  },
  {
   "cell_type": "code",
   "execution_count": 55,
   "metadata": {},
   "outputs": [],
   "source": [
    "v1=2\n",
    "v2=1\n",
    "y1=0.5\n",
    "y2=0.5\n",
    "def time(x):\n",
    "    return ((1/v1)*sqrt(x**2+(1/2)**2)+(1/v2)*sqrt( (1-x)**2 + (1/2)**2))\n",
    "\n",
    "def delta_time(x):\n",
    "\n",
    "    return (\n",
    "        (\n",
    "              (1/(2*v1)) * (2*x) \n",
    "            / (sqrt((x**2)+(y2**2)))\n",
    "         \n",
    "        )\n",
    "        +\n",
    "        (\n",
    "            (1/2*v2) * (2*x-2) \n",
    "            / sqrt(1+(x**2) - (2*x)+(y1**2)) \n",
    "        )\n",
    "    )\n"
   ]
  },
  {
   "cell_type": "code",
   "execution_count": 68,
   "metadata": {},
   "outputs": [],
   "source": [
    "x=pd.Series(np.linspace(0,1,1000))"
   ]
  },
  {
   "cell_type": "code",
   "execution_count": 69,
   "metadata": {},
   "outputs": [],
   "source": [
    "t=np.array(list(map(time, x)))"
   ]
  },
  {
   "cell_type": "code",
   "execution_count": 70,
   "metadata": {},
   "outputs": [],
   "source": [
    "t_prime=np.array(list(map(delta_time,x)))"
   ]
  },
  {
   "cell_type": "code",
   "execution_count": 71,
   "metadata": {},
   "outputs": [
    {
     "data": {
      "text/plain": [
       "[<matplotlib.lines.Line2D at 0x7fee3b7974e0>]"
      ]
     },
     "execution_count": 71,
     "metadata": {},
     "output_type": "execute_result"
    },
    {
     "data": {
      "image/png": "[encoded data removed]",
      "text/plain": [
       "<matplotlib.figure.Figure at 0x7fee3b7ef780>"
      ]
     },
     "metadata": {},
     "output_type": "display_data"
    }
   ],
   "source": [
    "plot(x,t)"
   ]
  },
  {
   "cell_type": "markdown",
   "metadata": {},
   "source": [
    "Now I want the derivative of this slope, $t'$"
   ]
  },
  {
   "cell_type": "code",
   "execution_count": 72,
   "metadata": {},
   "outputs": [
    {
     "data": {
      "image/png": "[encoded data removed]",
      "text/plain": [
       "<matplotlib.figure.Figure at 0x7fee3b7ef128>"
      ]
     },
     "metadata": {},
     "output_type": "display_data"
    }
   ],
   "source": [
    "plot(x,t)\n",
    "plot(x, t_prime)\n",
    "matplotlib.pyplot.show()"
   ]
  },
  {
   "cell_type": "markdown",
   "metadata": {},
   "source": [
    "$t$ is at a minimum where $t'$ is at 0"
   ]
  },
  {
   "cell_type": "code",
   "execution_count": 86,
   "metadata": {},
   "outputs": [],
   "source": [
    "df=pd.DataFrame({'x':x,'t':t,'t_prime':t_prime}).set_index('x')"
   ]
  },
  {
   "cell_type": "code",
   "execution_count": 87,
   "metadata": {},
   "outputs": [
    {
     "data": {
      "text/plain": [
       "0.76876876876876876"
      ]
     },
     "execution_count": 87,
     "metadata": {},
     "output_type": "execute_result"
    }
   ],
   "source": [
    "df.t.idxmin()"
   ]
  },
  {
   "cell_type": "markdown",
   "metadata": {},
   "source": [
    "So our analytic solution *should* yield approximately $x=0.76$"
   ]
  },
  {
   "cell_type": "code",
   "execution_count": 90,
   "metadata": {},
   "outputs": [
    {
     "data": {
      "text/plain": [
       "-0.015022526462801333"
      ]
     },
     "execution_count": 90,
     "metadata": {},
     "output_type": "execute_result"
    }
   ],
   "source": [
    "delta_time(0.76)"
   ]
  },
  {
   "cell_type": "markdown",
   "metadata": {},
   "source": [
    "#### Using Newton-Raphson"
   ]
  },
  {
   "cell_type": "code",
   "execution_count": 91,
   "metadata": {},
   "outputs": [],
   "source": [
    "x_best = newton(delta_time,x0=0.0)"
   ]
  },
  {
   "cell_type": "code",
   "execution_count": 92,
   "metadata": {},
   "outputs": [
    {
     "data": {
      "text/plain": [
       "0.7691321220827947"
      ]
     },
     "execution_count": 92,
     "metadata": {},
     "output_type": "execute_result"
    }
   ],
   "source": [
    "x_best"
   ]
  },
  {
   "cell_type": "code",
   "execution_count": 93,
   "metadata": {},
   "outputs": [
    {
     "data": {
      "text/plain": [
       "[<matplotlib.lines.Line2D at 0x7fee3f3f8828>]"
      ]
     },
     "execution_count": 93,
     "metadata": {},
     "output_type": "execute_result"
    },
    {
     "data": {
      "image/png": "[encoded data removed]",
      "text/plain": [
       "<matplotlib.figure.Figure at 0x7fee3b8cb128>"
      ]
     },
     "metadata": {},
     "output_type": "display_data"
    }
   ],
   "source": [
    "plot([0,1],[0.5,0.5]) # boundary\n",
    "plot([x_best], [0.5], 'ro')\n",
    "\n",
    "plot([0,x_best],[1,0.5])\n",
    "plot([x_best,1],[0.5,0])\n",
    "\n"
   ]
  },
  {
   "cell_type": "markdown",
   "metadata": {},
   "source": [
    "#### My understanding is that if I go one step further I'll magically derive Snell's law:"
   ]
  },
  {
   "cell_type": "markdown",
   "metadata": {},
   "source": [
    "\n",
    "$\\frac{sin(\\theta_1)}{sin(\\theta_2)} = \\frac{v_1}{v_2} $"
   ]
  },
  {
   "cell_type": "markdown",
   "metadata": {},
   "source": [
    "Let's try deriving that from:"
   ]
  },
  {
   "cell_type": "markdown",
   "metadata": {},
   "source": [
    "$ 4  v_2^2 x^2  (1+x^2-2x+y_1^2) = - (v_1^2)(x^2+y_2^2)     (2x-2)^2    $"
   ]
  },
  {
   "cell_type": "markdown",
   "metadata": {},
   "source": [
    "$  \\frac{v_1^2}{v_2^2}   =  - \\frac{4x^2  (1+x^2-2x+y_1^2)}{(x^2+y_2^2) (2x-2)^2}    $"
   ]
  },
  {
   "cell_type": "markdown",
   "metadata": {},
   "source": [
    "$  \\frac{v_1}{v_2}   =   - \\frac{2x}{(2x-2) } \\frac{   \\sqrt{(1+x^2-2x+y_1^2)}}{\\sqrt{ (x^2+y_2^2)  }}    $"
   ]
  },
  {
   "cell_type": "markdown",
   "metadata": {},
   "source": [
    "$  \\frac{v_1}{v_2}   =    \\frac{x}{(1-x) } \\frac{   \\sqrt{(1-x)^2+y_1^2}}{d_1}    $"
   ]
  },
  {
   "cell_type": "markdown",
   "metadata": {},
   "source": [
    "$  \\frac{v_1}{v_2}   =    \\frac{x}{(1-x) } \\frac{   d_2}{d_1}    $"
   ]
  },
  {
   "cell_type": "markdown",
   "metadata": {},
   "source": [
    "And because we know:"
   ]
  },
  {
   "cell_type": "markdown",
   "metadata": {},
   "source": [
    "$d_1 sin \\theta_1 = x $\n",
    "\n",
    "$d_2 sin \\theta_2 = 1-x $\n"
   ]
  },
  {
   "cell_type": "markdown",
   "metadata": {},
   "source": [
    "$\\frac{v_1}{v_2} = \\frac{sin \\theta_1}{ sin \\theta_2}$"
   ]
  },
  {
   "cell_type": "markdown",
   "metadata": {},
   "source": [
    "### And behold, we have Snell's law"
   ]
  },
  {
   "cell_type": "code",
   "execution_count": null,
   "metadata": {},
   "outputs": [],
   "source": []
  }
 ],
 "metadata": {
  "kernelspec": {
   "display_name": "Python 3",
   "language": "python",
   "name": "python3"
  },
  "language_info": {
   "codemirror_mode": {
    "name": "ipython",
    "version": 3
   },
   "file_extension": ".py",
   "mimetype": "text/x-python",
   "name": "python",
   "nbconvert_exporter": "python",
   "pygments_lexer": "ipython3",
   "version": "3.6.3"
  }
 },
 "nbformat": 4,
 "nbformat_minor": 2
}
