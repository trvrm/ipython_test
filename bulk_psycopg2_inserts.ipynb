{
 "cells": [
  {
   "cell_type": "markdown",
   "metadata": {},
   "source": [
    "One of the biggest challenges I face maintaining large Postgres systems is getting data *into* them in an efficient manner. Postgres is very, very good at maintaining, organising, querying and retrieving data, but inserts themselves can be quite slow.\n",
    "\n",
    "Various stackoverflow questions suggest using things like `COPY`, but that assumes your application has direct write access to the machine that is running Postgres, and I work very hard to maintain strict seperation of functionality between software components.\n",
    "\n",
    "So I've been looking for a faster way of inserting, say, 100,000 rows into the database across the wire, and what follows is by far the most efficient technique I've found so far."
   ]
  },
  {
   "cell_type": "markdown",
   "metadata": {},
   "source": [
    "### Set some visualisation options"
   ]
  },
  {
   "cell_type": "code",
   "execution_count": 1,
   "metadata": {
    "collapsed": true
   },
   "outputs": [],
   "source": [
    "%matplotlib inline\n",
    "import seaborn"
   ]
  },
  {
   "cell_type": "markdown",
   "metadata": {},
   "source": [
    "### Import the libraries we'll be using"
   ]
  },
  {
   "cell_type": "code",
   "execution_count": 4,
   "metadata": {
    "collapsed": false
   },
   "outputs": [],
   "source": [
    "import pandas\n",
    "from numpy import array_split\n",
    "import psycopg2\n",
    "from psycopg2.extras import Json\n",
    "import time\n",
    "import contextlib"
   ]
  },
  {
   "cell_type": "markdown",
   "metadata": {},
   "source": [
    "### A context manager for timing operations."
   ]
  },
  {
   "cell_type": "code",
   "execution_count": 5,
   "metadata": {
    "collapsed": false
   },
   "outputs": [],
   "source": [
    "@contextlib.contextmanager\n",
    "def timer(name=\"duration\"):\n",
    "    'Utility function for timing execution'\n",
    "    start=time.time()\n",
    "    yield\n",
    "    duration=time.time()-start\n",
    "    print(\"{0}: {1} second(s)\".format(name,duration))"
   ]
  },
  {
   "cell_type": "markdown",
   "metadata": {},
   "source": [
    "### Test setup\n",
    "\n",
    "My tests are based on creating a fairly simple table and timing how long it takes to perform inserts on it via several different methods.\n",
    "The table has a couple of default columns, a text column, and an HSTORE column."
   ]
  },
  {
   "cell_type": "code",
   "execution_count": null,
   "metadata": {
    "collapsed": true
   },
   "outputs": [],
   "source": [
    "\n",
    "SETUP_SQL=\"\"\"\n",
    "    DROP TABLE IF EXISTS upload_time_test;\n",
    "    \n",
    "    CREATE TABLE upload_time_test(\n",
    "        uuid uuid primary key default uuid_generate_v4(),\n",
    "        created timestamp with time zone not null default now(),\n",
    "        text text not null,\n",
    "        properties hstore not null default ''::hstore\n",
    "    );\n",
    "    \n",
    "    GRANT ALL ON upload_time_test TO test;\n",
    "\"\"\"\n"
   ]
  },
  {
   "cell_type": "markdown",
   "metadata": {},
   "source": [
    "This is the SQL we'll use for inserting a single row into the database table:"
   ]
  },
  {
   "cell_type": "code",
   "execution_count": 8,
   "metadata": {
    "collapsed": true
   },
   "outputs": [],
   "source": [
    "\n",
    "SINGLE_INSERT=\"\"\"\n",
    "    INSERT INTO upload_time_test(text,properties)\n",
    "         VALUES (%(text)s, %(properties)s)\n",
    "\"\"\""
   ]
  },
  {
   "cell_type": "markdown",
   "metadata": {},
   "source": [
    "Credentials for connecting to my local test database"
   ]
  },
  {
   "cell_type": "code",
   "execution_count": 9,
   "metadata": {
    "collapsed": true
   },
   "outputs": [],
   "source": [
    "HOST='localhost'\n",
    "DATABASE='test'\n",
    "USER='test'\n",
    "PASSWORD='password'"
   ]
  },
  {
   "cell_type": "markdown",
   "metadata": {},
   "source": [
    "Then we define a couple of simple wrappers around `psycopg2` "
   ]
  },
  {
   "cell_type": "code",
   "execution_count": 10,
   "metadata": {
    "collapsed": true
   },
   "outputs": [],
   "source": [
    "def connect():\n",
    "    connection= psycopg2.connect(host=HOST,database=DATABASE,user=USER,password=PASSWORD)\n",
    "    psycopg2.extras.register_hstore(connection)\n",
    "    return connection\n",
    "def execute(sql,params={}):\n",
    "    with connect() as connection:\n",
    "        with connection.cursor() as cursor:\n",
    "            cursor.execute(sql,params)"
   ]
  },
  {
   "cell_type": "markdown",
   "metadata": {},
   "source": [
    "This is the heart of my tests.  The `Tester` class destroys and re-creates the sample table every time we instantiate it.\n",
    "\n",
    "It provides three different functions for inserting database rows, each based on a different technique.\n",
    "\n",
    " * `slowInsert()` is the slowest, because it creates a new database connection for each row\n",
    " * `insert()` is the approach I had been using up till now. It creates one connection, and re-uses it for each insertion. This is basically what `executemany()` in psycopg2 is doing.\n",
    " * `fastInsert()` is my new approach, based on using **unnest()** to unroll a set of arrays passed in through psycopg2"
   ]
  },
  {
   "cell_type": "code",
   "execution_count": 11,
   "metadata": {
    "collapsed": true
   },
   "outputs": [],
   "source": [
    "class Tester():   \n",
    "    def __init__(self,count):\n",
    "        execute(SETUP_SQL)\n",
    "        self.count=count\n",
    "        \n",
    "        self.data=[\n",
    "            {\n",
    "                'text':'Some text',\n",
    "                'properties': {\"key\":\"value\"},\n",
    "            }\n",
    "            for i in range(count)\n",
    "        ]\n",
    "\n",
    "    def slowInsert(self):\n",
    "        '''\n",
    "            Creates a new connection for each insertion\n",
    "        '''\n",
    "        for row in self.data:\n",
    "            text=row['text']\n",
    "            properties=row['properties']\n",
    "            execute(SINGLE_INSERT,locals())\n",
    "        \n",
    "    def insert(self):\n",
    "        '''\n",
    "            One connection.\n",
    "            Multiple queries.\n",
    "        '''\n",
    "        with connect() as connection:\n",
    "            with connection.cursor() as cursor:\n",
    "                for row in self.data:\n",
    "                    text=row['text']\n",
    "                    properties=row['properties']\n",
    "                    cursor.execute(SINGLE_INSERT,locals())\n",
    "                    \n",
    "        \n",
    "    def fastInsert(self):\n",
    "        ''' \n",
    "            One connection, one query.\n",
    "        '''\n",
    "        sql='''\n",
    "            INSERT INTO upload_time_test(text,properties)\n",
    "              SELECT unnest( %(texts)s ) ,\n",
    "                     unnest( %(properties)s) \n",
    "\n",
    "        '''\n",
    "        \n",
    "        texts=[r['text'] for r in self.data]\n",
    "        properties=[r['properties'] for r in self.data]\n",
    "        execute(sql,locals())\n",
    "   "
   ]
  },
  {
   "cell_type": "markdown",
   "metadata": {},
   "source": [
    "So now we have the Tester class written, we can see how log each approach takes to insert 1000 rows"
   ]
  },
  {
   "cell_type": "code",
   "execution_count": 12,
   "metadata": {
    "collapsed": true
   },
   "outputs": [],
   "source": [
    "def runTests(iterations):\n",
    "    tester = Tester(iterations)\n",
    "    with timer('slow'):\n",
    "        tester.slowInsert()\n",
    "    with timer('normal'):\n",
    "        tester.insert()\n",
    "    with timer('fast'):\n",
    "        tester.fastInsert()\n"
   ]
  },
  {
   "cell_type": "code",
   "execution_count": 13,
   "metadata": {
    "collapsed": false
   },
   "outputs": [
    {
     "name": "stdout",
     "output_type": "stream",
     "text": [
      "slow: 7.160489320755005 second(s)\n",
      "normal: 0.1441025733947754 second(s)\n",
      "fast: 0.042119503021240234 second(s)\n"
     ]
    }
   ],
   "source": [
    "runTests(1000)"
   ]
  },
  {
   "cell_type": "markdown",
   "metadata": {},
   "source": [
    "**We notice an obvious difference between the approaches.**\n",
    "\n",
    "Re-using the connection makes a *huge* difference. Inserts run 50 times faster.\n",
    "\n",
    "Using `unnest()` runs 3 times faster than that."
   ]
  },
  {
   "cell_type": "markdown",
   "metadata": {},
   "source": [
    "## What about much bigger data sets?\n",
    "\n",
    "Next, I wanted to know if this held true for inserting, say, 100,000 rows.  I won't bother with the slowest approach, because that's clearly unusable."
   ]
  },
  {
   "cell_type": "code",
   "execution_count": 14,
   "metadata": {
    "collapsed": false
   },
   "outputs": [
    {
     "name": "stdout",
     "output_type": "stream",
     "text": [
      "normal: 14.866096019744873 second(s)\n",
      "fast: 3.9566986560821533 second(s)\n"
     ]
    }
   ],
   "source": [
    "tester=Tester(count=100000)\n",
    "with timer('normal'):\n",
    "    tester.insert()\n",
    "    \n",
    "tester=Tester(count=100000)\n",
    "with timer('fast'):\n",
    "    tester.fastInsert()\n"
   ]
  },
  {
   "cell_type": "markdown",
   "metadata": {},
   "source": [
    "So even over 100,000 rows we still run nearly 4 times faster using `unnest`"
   ]
  },
  {
   "cell_type": "markdown",
   "metadata": {},
   "source": [
    "## Further investigation - mapping insertion rate against number of rows inserted.\n",
    "\n",
    "I wanted to see the exact relationship between the rate of insertion and the number of rows being inserted.\n",
    "\n",
    "So first I wrote a couple of functions to measure the insertion rate of our two methods:"
   ]
  },
  {
   "cell_type": "code",
   "execution_count": 15,
   "metadata": {
    "collapsed": true
   },
   "outputs": [],
   "source": [
    "\n",
    "def bulkInsertRate(count):\n",
    "    tester=Tester(count)\n",
    "    start=time.time()\n",
    "    tester.fastInsert()\n",
    "    duration=time.time()-start\n",
    "    return count/duration\n",
    "\n",
    "def normalInsertRate(count):\n",
    "    tester=Tester(count)\n",
    "    start=time.time()\n",
    "    tester.insert()\n",
    "    duration=time.time()-start\n",
    "    return count/duration\n"
   ]
  },
  {
   "cell_type": "markdown",
   "metadata": {},
   "source": [
    "And then we run them with a range of dataset sizes"
   ]
  },
  {
   "cell_type": "code",
   "execution_count": 17,
   "metadata": {
    "collapsed": false
   },
   "outputs": [],
   "source": [
    "counts=[50,100,200,500,1000,2000,5000,10000,20000,50000,100000]\n",
    "\n",
    "rates=[\n",
    "    {\n",
    "        \"count\":count,\n",
    "         'bulk':bulkInsertRate(count),\n",
    "        'normal':normalInsertRate(count)\n",
    "            \n",
    "    }\n",
    "    for count in counts\n",
    "]\n"
   ]
  },
  {
   "cell_type": "markdown",
   "metadata": {},
   "source": [
    "Finally, I use Pandas to plot the output data from these tests."
   ]
  },
  {
   "cell_type": "code",
   "execution_count": 18,
   "metadata": {
    "collapsed": false
   },
   "outputs": [
    {
     "data": {
      "text/html": [
       "<div style=\"max-height:1000px;max-width:1500px;overflow:auto;\">\n",
       "<table border=\"1\" class=\"dataframe\">\n",
       "  <thead>\n",
       "    <tr style=\"text-align: right;\">\n",
       "      <th></th>\n",
       "      <th>bulk</th>\n",
       "      <th>normal</th>\n",
       "    </tr>\n",
       "    <tr>\n",
       "      <th>count</th>\n",
       "      <th></th>\n",
       "      <th></th>\n",
       "    </tr>\n",
       "  </thead>\n",
       "  <tbody>\n",
       "    <tr>\n",
       "      <th>50    </th>\n",
       "      <td>  4485.694730</td>\n",
       "      <td> 3867.856879</td>\n",
       "    </tr>\n",
       "    <tr>\n",
       "      <th>100   </th>\n",
       "      <td> 10159.389609</td>\n",
       "      <td> 4847.897547</td>\n",
       "    </tr>\n",
       "    <tr>\n",
       "      <th>200   </th>\n",
       "      <td> 15212.186276</td>\n",
       "      <td> 6057.106548</td>\n",
       "    </tr>\n",
       "    <tr>\n",
       "      <th>500   </th>\n",
       "      <td> 27340.842720</td>\n",
       "      <td> 7081.049689</td>\n",
       "    </tr>\n",
       "    <tr>\n",
       "      <th>1000  </th>\n",
       "      <td> 33248.545382</td>\n",
       "      <td> 7694.657609</td>\n",
       "    </tr>\n",
       "    <tr>\n",
       "      <th>2000  </th>\n",
       "      <td> 35640.695767</td>\n",
       "      <td> 7070.777670</td>\n",
       "    </tr>\n",
       "    <tr>\n",
       "      <th>5000  </th>\n",
       "      <td> 41223.200473</td>\n",
       "      <td> 8027.790910</td>\n",
       "    </tr>\n",
       "    <tr>\n",
       "      <th>10000 </th>\n",
       "      <td> 40948.723106</td>\n",
       "      <td> 7785.005392</td>\n",
       "    </tr>\n",
       "    <tr>\n",
       "      <th>20000 </th>\n",
       "      <td> 42604.387914</td>\n",
       "      <td> 7568.314015</td>\n",
       "    </tr>\n",
       "    <tr>\n",
       "      <th>50000 </th>\n",
       "      <td> 40795.233470</td>\n",
       "      <td> 7291.552509</td>\n",
       "    </tr>\n",
       "    <tr>\n",
       "      <th>100000</th>\n",
       "      <td> 27014.354119</td>\n",
       "      <td> 6872.935483</td>\n",
       "    </tr>\n",
       "  </tbody>\n",
       "</table>\n",
       "</div>"
      ],
      "text/plain": [
       "                bulk       normal\n",
       "count                            \n",
       "50       4485.694730  3867.856879\n",
       "100     10159.389609  4847.897547\n",
       "200     15212.186276  6057.106548\n",
       "500     27340.842720  7081.049689\n",
       "1000    33248.545382  7694.657609\n",
       "2000    35640.695767  7070.777670\n",
       "5000    41223.200473  8027.790910\n",
       "10000   40948.723106  7785.005392\n",
       "20000   42604.387914  7568.314015\n",
       "50000   40795.233470  7291.552509\n",
       "100000  27014.354119  6872.935483"
      ]
     },
     "execution_count": 18,
     "metadata": {},
     "output_type": "execute_result"
    }
   ],
   "source": [
    "frame=pandas.DataFrame(rates).set_index('count')\n",
    "frame"
   ]
  },
  {
   "cell_type": "code",
   "execution_count": 19,
   "metadata": {
    "collapsed": false
   },
   "outputs": [
    {
     "data": {
      "text/plain": [
       "<matplotlib.axes._subplots.AxesSubplot at 0x7fcbdecd0908>"
      ]
     },
     "execution_count": 19,
     "metadata": {},
     "output_type": "execute_result"
    },
    {
     "data": {
      "image/png": "[encoded data removed]",
      "text/plain": [
       "<matplotlib.figure.Figure at 0x7fcbdecebf60>"
      ]
     },
     "metadata": {},
     "output_type": "display_data"
    }
   ],
   "source": [
    "frame.plot(logx=True)"
   ]
  },
  {
   "cell_type": "markdown",
   "metadata": {},
   "source": [
    "## Conclusion\n",
    "\n",
    "Using `unnest` to load multiple rows simultaneously has the following advantages:\n",
    "\n",
    "* It is significantly faster than a regular insert loop, especially when inserting thousands of rows.\n",
    "* The benefits of using unnest() increase at least up to 50,000 rows\n",
    "* It still allows us to write (reasonably) straightforward parameterised SQL with no string concatenation\n",
    "* When I tried this on a remote database, the improvements were even more impressive, presumably as it reduces significantly how much data is transferred back and forth across the network."
   ]
  },
  {
   "cell_type": "code",
   "execution_count": null,
   "metadata": {
    "collapsed": true
   },
   "outputs": [],
   "source": []
  }
 ],
 "metadata": {
  "kernelspec": {
   "display_name": "Python 3",
   "language": "python",
   "name": "python3"
  },
  "language_info": {
   "codemirror_mode": {
    "name": "ipython",
    "version": 3
   },
   "file_extension": ".py",
   "mimetype": "text/x-python",
   "name": "python",
   "nbconvert_exporter": "python",
   "pygments_lexer": "ipython3",
   "version": "3.4.3"
  }
 },
 "nbformat": 4,
 "nbformat_minor": 0
}
