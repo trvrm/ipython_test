{
 "cells": [
  {
   "cell_type": "markdown",
   "metadata": {},
   "source": [
    "# Multi-Arm Bandit Problem\n",
    "\n",
    "#### Explore vs exploit."
   ]
  },
  {
   "cell_type": "markdown",
   "metadata": {},
   "source": [
    "Consider two slot machines, A and B.\n",
    "\n",
    "Each has some unknown probability of $p$ of winning whenever we play it.\n",
    "\n",
    "At each iteration, we can choose to play either A or B, with the goal of maximising our long-term success rate"
   ]
  },
  {
   "cell_type": "code",
   "execution_count": 172,
   "metadata": {},
   "outputs": [],
   "source": [
    "import random\n",
    "import pandas"
   ]
  },
  {
   "cell_type": "code",
   "execution_count": 146,
   "metadata": {},
   "outputs": [],
   "source": [
    "class Bandit:\n",
    "    def __init__(self,ratio):\n",
    "        self.ratio=ratio\n",
    "        \n",
    "    def play(self):\n",
    "        'returns 1 for a win, 0 for a loss'\n",
    "        return int(random.random()<self.ratio)\n",
    "        "
   ]
  },
  {
   "cell_type": "code",
   "execution_count": 147,
   "metadata": {},
   "outputs": [],
   "source": [
    "a=Bandit(random.random())\n",
    "b=Bandit(random.random())"
   ]
  },
  {
   "cell_type": "markdown",
   "metadata": {},
   "source": [
    "So we have two bandits. We need to formalize the concept of a *strategy*.\n",
    "\n",
    "A strategy is just a function that is given the current game history and returns one of 'a' or 'b'."
   ]
  },
  {
   "cell_type": "code",
   "execution_count": 4,
   "metadata": {},
   "outputs": [],
   "source": [
    "def always_a(history):\n",
    "    'Simplest possible strategy'\n",
    "    return 'a'\n",
    "\n",
    "\n",
    "def random_lever(history):\n",
    "    return random.choice(['a','b']) \n",
    "\n",
    "    "
   ]
  },
  {
   "cell_type": "markdown",
   "metadata": {},
   "source": [
    "Now define a couple of functions for evaluating the outcome of applying a particular strategy."
   ]
  },
  {
   "cell_type": "code",
   "execution_count": 175,
   "metadata": {},
   "outputs": [],
   "source": [
    "\n",
    "def apply_strategy(a,b,strategy,turns=1000):\n",
    "    history=[]\n",
    "    for i in range(turns):\n",
    "        choice = strategy(history)\n",
    "        assert choice in ('a','b')\n",
    "        bandit = a if choice=='a' else b\n",
    "        outcome=bandit.play()\n",
    "        history.append((choice,outcome))\n",
    "    return sum(outcome for choice,outcome in history)\n",
    "\n",
    "def test_strategies(strategies,turns=1000):\n",
    "\n",
    "    a=Bandit(random.random())\n",
    "    b=Bandit(random.random())\n",
    "    return {\n",
    "        strategy.__name__:apply_strategy(a,b,strategy,turns=turns)\n",
    "        for strategy in strategies\n",
    "    }\n"
   ]
  },
  {
   "cell_type": "code",
   "execution_count": 176,
   "metadata": {},
   "outputs": [
    {
     "data": {
      "text/plain": [
       "{'random_lever': 192}"
      ]
     },
     "execution_count": 176,
     "metadata": {},
     "output_type": "execute_result"
    }
   ],
   "source": [
    "test_strategies([\n",
    "    random_lever\n",
    "])"
   ]
  },
  {
   "cell_type": "markdown",
   "metadata": {},
   "source": [
    "Some more strategies:"
   ]
  },
  {
   "cell_type": "code",
   "execution_count": 177,
   "metadata": {},
   "outputs": [],
   "source": [
    "def win_stay_lose_shift(history):\n",
    "    if not history:\n",
    "        return 'a'\n",
    "    else:\n",
    "        # what happened on the last turn?\n",
    "        choice,outcome=history[-1]\n",
    "        if outcome: # last choice worked, stick with it\n",
    "            return choice\n",
    "        else: # last choice didn't work, switch straight away\n",
    "            return 'b' if choice=='a' else 'a'\n",
    "        \n",
    "        \n",
    "# and the opposite...\n",
    "def win_shift_lose_stay(history):\n",
    "    if not history:\n",
    "        return 'a'\n",
    "    else:\n",
    "        choice,outcome=history[-1]\n",
    "        if outcome:\n",
    "            return 'b' if choice=='a' else 'a'\n",
    "        else:\n",
    "            return choice\n"
   ]
  },
  {
   "cell_type": "code",
   "execution_count": 178,
   "metadata": {},
   "outputs": [
    {
     "data": {
      "text/plain": [
       "{'random_lever': 821, 'win_stay_lose_shift': 901, 'win_shift_lose_stay': 813}"
      ]
     },
     "execution_count": 178,
     "metadata": {},
     "output_type": "execute_result"
    }
   ],
   "source": [
    "test_strategies([random_lever,win_stay_lose_shift,win_shift_lose_stay])"
   ]
  },
  {
   "cell_type": "markdown",
   "metadata": {},
   "source": [
    "#### Now test multiple strategies on many bandit pairs"
   ]
  },
  {
   "cell_type": "code",
   "execution_count": 179,
   "metadata": {},
   "outputs": [
    {
     "data": {
      "text/html": [
       "<div>\n",
       "<style scoped>\n",
       "    .dataframe tbody tr th:only-of-type {\n",
       "        vertical-align: middle;\n",
       "    }\n",
       "\n",
       "    .dataframe tbody tr th {\n",
       "        vertical-align: top;\n",
       "    }\n",
       "\n",
       "    .dataframe thead th {\n",
       "        text-align: right;\n",
       "    }\n",
       "</style>\n",
       "<table border=\"1\" class=\"dataframe\">\n",
       "  <thead>\n",
       "    <tr style=\"text-align: right;\">\n",
       "      <th></th>\n",
       "      <th>always_a</th>\n",
       "      <th>random_lever</th>\n",
       "      <th>win_shift_lose_stay</th>\n",
       "      <th>win_stay_lose_shift</th>\n",
       "    </tr>\n",
       "  </thead>\n",
       "  <tbody>\n",
       "    <tr>\n",
       "      <th>0</th>\n",
       "      <td>651</td>\n",
       "      <td>640</td>\n",
       "      <td>614</td>\n",
       "      <td>624</td>\n",
       "    </tr>\n",
       "    <tr>\n",
       "      <th>1</th>\n",
       "      <td>167</td>\n",
       "      <td>186</td>\n",
       "      <td>190</td>\n",
       "      <td>179</td>\n",
       "    </tr>\n",
       "    <tr>\n",
       "      <th>2</th>\n",
       "      <td>878</td>\n",
       "      <td>878</td>\n",
       "      <td>901</td>\n",
       "      <td>878</td>\n",
       "    </tr>\n",
       "    <tr>\n",
       "      <th>3</th>\n",
       "      <td>719</td>\n",
       "      <td>796</td>\n",
       "      <td>798</td>\n",
       "      <td>800</td>\n",
       "    </tr>\n",
       "    <tr>\n",
       "      <th>4</th>\n",
       "      <td>951</td>\n",
       "      <td>607</td>\n",
       "      <td>491</td>\n",
       "      <td>898</td>\n",
       "    </tr>\n",
       "    <tr>\n",
       "      <th>5</th>\n",
       "      <td>129</td>\n",
       "      <td>483</td>\n",
       "      <td>244</td>\n",
       "      <td>745</td>\n",
       "    </tr>\n",
       "    <tr>\n",
       "      <th>6</th>\n",
       "      <td>126</td>\n",
       "      <td>440</td>\n",
       "      <td>168</td>\n",
       "      <td>676</td>\n",
       "    </tr>\n",
       "    <tr>\n",
       "      <th>7</th>\n",
       "      <td>883</td>\n",
       "      <td>740</td>\n",
       "      <td>732</td>\n",
       "      <td>811</td>\n",
       "    </tr>\n",
       "    <tr>\n",
       "      <th>8</th>\n",
       "      <td>313</td>\n",
       "      <td>277</td>\n",
       "      <td>231</td>\n",
       "      <td>291</td>\n",
       "    </tr>\n",
       "    <tr>\n",
       "      <th>9</th>\n",
       "      <td>422</td>\n",
       "      <td>334</td>\n",
       "      <td>317</td>\n",
       "      <td>374</td>\n",
       "    </tr>\n",
       "  </tbody>\n",
       "</table>\n",
       "</div>"
      ],
      "text/plain": [
       "   always_a  random_lever  win_shift_lose_stay  win_stay_lose_shift\n",
       "0       651           640                  614                  624\n",
       "1       167           186                  190                  179\n",
       "2       878           878                  901                  878\n",
       "3       719           796                  798                  800\n",
       "4       951           607                  491                  898\n",
       "5       129           483                  244                  745\n",
       "6       126           440                  168                  676\n",
       "7       883           740                  732                  811\n",
       "8       313           277                  231                  291\n",
       "9       422           334                  317                  374"
      ]
     },
     "execution_count": 179,
     "metadata": {},
     "output_type": "execute_result"
    }
   ],
   "source": [
    "strategies=[random_lever,win_stay_lose_shift,win_shift_lose_stay,always_a]\n",
    "df=pandas.DataFrame([\n",
    "    test_strategies(strategies,turns=1000)\n",
    "    for i in range(10)\n",
    "])\n",
    "\n",
    "df"
   ]
  },
  {
   "cell_type": "code",
   "execution_count": 180,
   "metadata": {},
   "outputs": [
    {
     "data": {
      "text/plain": [
       "win_shift_lose_stay    4686\n",
       "always_a               5239\n",
       "random_lever           5381\n",
       "win_stay_lose_shift    6276\n",
       "dtype: int64"
      ]
     },
     "execution_count": 180,
     "metadata": {},
     "output_type": "execute_result"
    }
   ],
   "source": [
    "df.sum().sort_values()"
   ]
  },
  {
   "cell_type": "markdown",
   "metadata": {},
   "source": [
    "### Explore/Exploit\n",
    "\n",
    "Now try out some kind of explore vs exploit strategy.\n",
    "\n",
    "First I just use hardcoded thresholds. On every turn, estimate the win/loss ratio of each bandit from the data we've currently observed. Then on a weighted coin toss decide whether to continue using what we believe to be the best bandit (exploit) or whether to switch in order to learn more (explore). \n"
   ]
  },
  {
   "cell_type": "code",
   "execution_count": 181,
   "metadata": {},
   "outputs": [],
   "source": [
    "def explore_exploit(threshold):\n",
    "    assert 0<=threshold<=1\n",
    "    def inner(history):\n",
    "        aa = [outcome for choice,outcome in history if choice=='a']\n",
    "        bb = [outcome for choice,outcome in history if choice=='b']\n",
    "\n",
    "        if aa:\n",
    "            a_estimate=sum(aa)/len(aa)\n",
    "        else:\n",
    "            a_estimate=0.5\n",
    "        if bb:\n",
    "            b_estimate=sum(bb)/len(bb)\n",
    "        else:\n",
    "            b_estimate=0.5\n",
    "\n",
    "        best = 'a' if a_estimate>b_estimate else 'b'\n",
    "        worst= 'a' if best=='b' else 'b'\n",
    "\n",
    "        exploit = random.random() < threshold\n",
    "\n",
    "        if exploit:\n",
    "            return best\n",
    "        else:\n",
    "            return worst\n",
    "        \n",
    "    inner.__name__=f\"explore_exploit_{threshold}\"\n",
    "    return inner"
   ]
  },
  {
   "cell_type": "code",
   "execution_count": 182,
   "metadata": {},
   "outputs": [
    {
     "data": {
      "text/plain": [
       "{'explore_exploit_0.9': 678}"
      ]
     },
     "execution_count": 182,
     "metadata": {},
     "output_type": "execute_result"
    }
   ],
   "source": [
    "test_strategies([explore_exploit(0.9)])"
   ]
  },
  {
   "cell_type": "code",
   "execution_count": 183,
   "metadata": {},
   "outputs": [],
   "source": [
    "strategies=[\n",
    "    random_lever,\n",
    "    win_stay_lose_shift,\n",
    "    win_shift_lose_stay,\n",
    "    always_a,\n",
    "    explore_exploit(0.4),\n",
    "    explore_exploit(0.5),\n",
    "    explore_exploit(0.6),\n",
    "    explore_exploit(0.7),\n",
    "    explore_exploit(0.8),\n",
    "    explore_exploit(0.9)\n",
    "]\n",
    "df=pandas.DataFrame([\n",
    "    test_strategies(strategies,turns=1000)\n",
    "    for i in range(50)\n",
    "])\n"
   ]
  },
  {
   "cell_type": "code",
   "execution_count": 184,
   "metadata": {},
   "outputs": [
    {
     "data": {
      "text/plain": [
       "win_shift_lose_stay    19242\n",
       "explore_exploit_0.4    22017\n",
       "always_a               22416\n",
       "explore_exploit_0.5    23905\n",
       "random_lever           23973\n",
       "explore_exploit_0.6    25664\n",
       "explore_exploit_0.7    27200\n",
       "win_stay_lose_shift    28499\n",
       "explore_exploit_0.8    28755\n",
       "explore_exploit_0.9    30302\n",
       "dtype: int64"
      ]
     },
     "execution_count": 184,
     "metadata": {},
     "output_type": "execute_result"
    }
   ],
   "source": [
    "df.sum().sort_values()"
   ]
  },
  {
   "cell_type": "markdown",
   "metadata": {},
   "source": [
    "Finally, a more adaptive version of explore/exploit that starts our with a tendency to explore, but becomes more conservative as time progresses"
   ]
  },
  {
   "cell_type": "code",
   "execution_count": 185,
   "metadata": {},
   "outputs": [],
   "source": [
    "def explore_exploit_adaptive(history):\n",
    "    \n",
    "    # I want threshold to trend towards 1 as the history grows.\n",
    "\n",
    "    l=len(history)\n",
    "    threshold = l/(10+l) \n",
    "    assert 0<=threshold<=1\n",
    "    \n",
    "    aa = [outcome for choice,outcome in history if choice=='a']\n",
    "    bb = [outcome for choice,outcome in history if choice=='b']\n",
    "\n",
    "    if aa:\n",
    "        a_estimate=sum(aa)/len(aa)\n",
    "    else:\n",
    "        a_estimate=0.5\n",
    "    if bb:\n",
    "        b_estimate=sum(bb)/len(bb)\n",
    "    else:\n",
    "        b_estimate=0.5\n",
    "\n",
    "    best = 'a' if a_estimate>b_estimate else 'b'\n",
    "    worst= 'a' if best=='b' else 'b'\n",
    "\n",
    "    exploit = random.random() < threshold\n",
    "\n",
    "    if exploit:\n",
    "        return best\n",
    "    else:\n",
    "        return worst\n",
    "        "
   ]
  },
  {
   "cell_type": "code",
   "execution_count": 186,
   "metadata": {},
   "outputs": [
    {
     "data": {
      "text/plain": [
       "win_shift_lose_stay         19123\n",
       "explore_exploit_0.4         21768\n",
       "always_a                    22659\n",
       "explore_exploit_0.5         23619\n",
       "random_lever                23828\n",
       "explore_exploit_0.6         25578\n",
       "explore_exploit_0.7         27390\n",
       "win_stay_lose_shift         28476\n",
       "explore_exploit_0.8         29032\n",
       "explore_exploit_0.9         30612\n",
       "explore_exploit_adaptive    31628\n",
       "dtype: int64"
      ]
     },
     "execution_count": 186,
     "metadata": {},
     "output_type": "execute_result"
    }
   ],
   "source": [
    "\n",
    "strategies=[\n",
    "    random_lever,\n",
    "    win_stay_lose_shift,\n",
    "    win_shift_lose_stay,\n",
    "    always_a,\n",
    "    explore_exploit(0.4),\n",
    "    explore_exploit(0.5),\n",
    "    explore_exploit(0.6),\n",
    "    explore_exploit(0.7),\n",
    "    explore_exploit(0.8),\n",
    "    explore_exploit(0.9),\n",
    "    explore_exploit_adaptive\n",
    "]\n",
    "df=pandas.DataFrame([\n",
    "    test_strategies(strategies,turns=1000)\n",
    "    for i in range(50)\n",
    "])\n",
    "df.sum().sort_values()\n"
   ]
  },
  {
   "cell_type": "markdown",
   "metadata": {},
   "source": [
    "So `explore_exploit_adaptive` is so far the best strategy we've come up with."
   ]
  }
 ],
 "metadata": {
  "kernelspec": {
   "display_name": "Python 3",
   "language": "python",
   "name": "python3"
  },
  "language_info": {
   "codemirror_mode": {
    "name": "ipython",
    "version": 3
   },
   "file_extension": ".py",
   "mimetype": "text/x-python",
   "name": "python",
   "nbconvert_exporter": "python",
   "pygments_lexer": "ipython3",
   "version": "3.6.6"
  }
 },
 "nbformat": 4,
 "nbformat_minor": 2
}
