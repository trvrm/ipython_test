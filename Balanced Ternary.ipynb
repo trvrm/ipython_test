{
 "cells": [
  {
   "cell_type": "markdown",
   "metadata": {},
   "source": [
    "I have a system that stores data in a two-dimensional numpy array, with each element being one of `(-1,0,1)`\n",
    "\n",
    "I remembered reading many years ago about the  [Balanced Ternary](https://en.wikipedia.org/wiki/Balanced_ternary) system for writing numbers, and I thought it might be fun to see if I could use it to represent  these arrays as a single integer.\n",
    "\n",
    "\n",
    "In the binary system, a number is represented as a sequence of ones and zeros, each one representing a multiple of a power of 2.\n",
    "\n",
    "In a Balanced Ternary system, a number is represented as a sequence of ones, zeros, and *minus ones*, each one representing a multiple of a power of 3.\n",
    "\n",
    "So for example, the number eight is represented as\n",
    "\n",
    "`1,0,-1`, \n",
    "\n",
    "which can be understood as \n",
    "\n",
    "` 1*9 + 0*3 + -1*1 = 8`\n",
    "\n",
    "For some reason I find this system very aesthetically pleasing.  There's probably not a lot of practical use to it, although the Russians did once build an entire computer based on this system, rather than on binary."
   ]
  },
  {
   "cell_type": "markdown",
   "metadata": {},
   "source": [
    "Anyway, here's a quick python implementation of the system."
   ]
  },
  {
   "cell_type": "code",
   "execution_count": 10,
   "metadata": {
    "collapsed": true
   },
   "outputs": [],
   "source": [
    "import pandas\n",
    "import numpy as np"
   ]
  },
  {
   "cell_type": "code",
   "execution_count": 11,
   "metadata": {
    "collapsed": true
   },
   "outputs": [],
   "source": [
    "def encode(i):\n",
    "    def remainders(i):\n",
    "        while i:\n",
    "            i,mod=divmod(i,3)\n",
    "            yield mod\n",
    "        yield 0\n",
    "    r = list(remainders(i))\n",
    "    i=0\n",
    "    while i < len(r):\n",
    "        if r[i]>1:\n",
    "            r[i]  -=3\n",
    "            r[i+1]+=1\n",
    "        i+=1\n",
    "    if r[-1]==0:r.pop()\n",
    "    return list(reversed(r))"
   ]
  },
  {
   "cell_type": "code",
   "execution_count": 12,
   "metadata": {
    "collapsed": true
   },
   "outputs": [],
   "source": [
    "def decode(l):\n",
    "    l = list(reversed(l))\n",
    "    out=0\n",
    "    for i in range(len(l)):\n",
    "        out+=(int(l[i]))*(3**i)\n",
    "    return out"
   ]
  },
  {
   "cell_type": "code",
   "execution_count": 13,
   "metadata": {},
   "outputs": [
    {
     "data": {
      "text/plain": [
       "[1, -1, -1, -1, 0]"
      ]
     },
     "execution_count": 13,
     "metadata": {},
     "output_type": "execute_result"
    }
   ],
   "source": [
    "encode(42)"
   ]
  },
  {
   "cell_type": "markdown",
   "metadata": {},
   "source": [
    "So the balanced ternary representation of 42 is 1,-1,-1,-1,0"
   ]
  },
  {
   "cell_type": "markdown",
   "metadata": {},
   "source": [
    "For comparison, the binary representation of 42 is:"
   ]
  },
  {
   "cell_type": "code",
   "execution_count": 14,
   "metadata": {},
   "outputs": [
    {
     "data": {
      "text/plain": [
       "['1', '0', '1', '0', '1', '0']"
      ]
     },
     "execution_count": 14,
     "metadata": {},
     "output_type": "execute_result"
    }
   ],
   "source": [
    "list(\"{0:b}\".format(42))"
   ]
  },
  {
   "cell_type": "markdown",
   "metadata": {},
   "source": [
    "## Now lets encode all the numbers up to 42"
   ]
  },
  {
   "cell_type": "code",
   "execution_count": 16,
   "metadata": {},
   "outputs": [
    {
     "data": {
      "text/html": [
       "<div>\n",
       "<table border=\"1\" class=\"dataframe\">\n",
       "  <thead>\n",
       "    <tr style=\"text-align: right;\">\n",
       "      <th></th>\n",
       "      <th>encoded</th>\n",
       "    </tr>\n",
       "  </thead>\n",
       "  <tbody>\n",
       "    <tr>\n",
       "      <th>0</th>\n",
       "      <td></td>\n",
       "    </tr>\n",
       "    <tr>\n",
       "      <th>1</th>\n",
       "      <td>1</td>\n",
       "    </tr>\n",
       "    <tr>\n",
       "      <th>2</th>\n",
       "      <td>1,-1</td>\n",
       "    </tr>\n",
       "    <tr>\n",
       "      <th>3</th>\n",
       "      <td>1,0</td>\n",
       "    </tr>\n",
       "    <tr>\n",
       "      <th>4</th>\n",
       "      <td>1,1</td>\n",
       "    </tr>\n",
       "    <tr>\n",
       "      <th>5</th>\n",
       "      <td>1,-1,-1</td>\n",
       "    </tr>\n",
       "    <tr>\n",
       "      <th>6</th>\n",
       "      <td>1,-1,0</td>\n",
       "    </tr>\n",
       "    <tr>\n",
       "      <th>7</th>\n",
       "      <td>1,-1,1</td>\n",
       "    </tr>\n",
       "    <tr>\n",
       "      <th>8</th>\n",
       "      <td>1,0,-1</td>\n",
       "    </tr>\n",
       "    <tr>\n",
       "      <th>9</th>\n",
       "      <td>1,0,0</td>\n",
       "    </tr>\n",
       "    <tr>\n",
       "      <th>10</th>\n",
       "      <td>1,0,1</td>\n",
       "    </tr>\n",
       "    <tr>\n",
       "      <th>11</th>\n",
       "      <td>1,1,-1</td>\n",
       "    </tr>\n",
       "    <tr>\n",
       "      <th>12</th>\n",
       "      <td>1,1,0</td>\n",
       "    </tr>\n",
       "    <tr>\n",
       "      <th>13</th>\n",
       "      <td>1,1,1</td>\n",
       "    </tr>\n",
       "    <tr>\n",
       "      <th>14</th>\n",
       "      <td>1,-1,-1,-1</td>\n",
       "    </tr>\n",
       "    <tr>\n",
       "      <th>15</th>\n",
       "      <td>1,-1,-1,0</td>\n",
       "    </tr>\n",
       "    <tr>\n",
       "      <th>16</th>\n",
       "      <td>1,-1,-1,1</td>\n",
       "    </tr>\n",
       "    <tr>\n",
       "      <th>17</th>\n",
       "      <td>1,-1,0,-1</td>\n",
       "    </tr>\n",
       "    <tr>\n",
       "      <th>18</th>\n",
       "      <td>1,-1,0,0</td>\n",
       "    </tr>\n",
       "    <tr>\n",
       "      <th>19</th>\n",
       "      <td>1,-1,0,1</td>\n",
       "    </tr>\n",
       "    <tr>\n",
       "      <th>20</th>\n",
       "      <td>1,-1,1,-1</td>\n",
       "    </tr>\n",
       "    <tr>\n",
       "      <th>21</th>\n",
       "      <td>1,-1,1,0</td>\n",
       "    </tr>\n",
       "    <tr>\n",
       "      <th>22</th>\n",
       "      <td>1,-1,1,1</td>\n",
       "    </tr>\n",
       "    <tr>\n",
       "      <th>23</th>\n",
       "      <td>1,0,-1,-1</td>\n",
       "    </tr>\n",
       "    <tr>\n",
       "      <th>24</th>\n",
       "      <td>1,0,-1,0</td>\n",
       "    </tr>\n",
       "    <tr>\n",
       "      <th>25</th>\n",
       "      <td>1,0,-1,1</td>\n",
       "    </tr>\n",
       "    <tr>\n",
       "      <th>26</th>\n",
       "      <td>1,0,0,-1</td>\n",
       "    </tr>\n",
       "    <tr>\n",
       "      <th>27</th>\n",
       "      <td>1,0,0,0</td>\n",
       "    </tr>\n",
       "    <tr>\n",
       "      <th>28</th>\n",
       "      <td>1,0,0,1</td>\n",
       "    </tr>\n",
       "    <tr>\n",
       "      <th>29</th>\n",
       "      <td>1,0,1,-1</td>\n",
       "    </tr>\n",
       "    <tr>\n",
       "      <th>30</th>\n",
       "      <td>1,0,1,0</td>\n",
       "    </tr>\n",
       "    <tr>\n",
       "      <th>31</th>\n",
       "      <td>1,0,1,1</td>\n",
       "    </tr>\n",
       "    <tr>\n",
       "      <th>32</th>\n",
       "      <td>1,1,-1,-1</td>\n",
       "    </tr>\n",
       "    <tr>\n",
       "      <th>33</th>\n",
       "      <td>1,1,-1,0</td>\n",
       "    </tr>\n",
       "    <tr>\n",
       "      <th>34</th>\n",
       "      <td>1,1,-1,1</td>\n",
       "    </tr>\n",
       "    <tr>\n",
       "      <th>35</th>\n",
       "      <td>1,1,0,-1</td>\n",
       "    </tr>\n",
       "    <tr>\n",
       "      <th>36</th>\n",
       "      <td>1,1,0,0</td>\n",
       "    </tr>\n",
       "    <tr>\n",
       "      <th>37</th>\n",
       "      <td>1,1,0,1</td>\n",
       "    </tr>\n",
       "    <tr>\n",
       "      <th>38</th>\n",
       "      <td>1,1,1,-1</td>\n",
       "    </tr>\n",
       "    <tr>\n",
       "      <th>39</th>\n",
       "      <td>1,1,1,0</td>\n",
       "    </tr>\n",
       "    <tr>\n",
       "      <th>40</th>\n",
       "      <td>1,1,1,1</td>\n",
       "    </tr>\n",
       "    <tr>\n",
       "      <th>41</th>\n",
       "      <td>1,-1,-1,-1,-1</td>\n",
       "    </tr>\n",
       "    <tr>\n",
       "      <th>42</th>\n",
       "      <td>1,-1,-1,-1,0</td>\n",
       "    </tr>\n",
       "  </tbody>\n",
       "</table>\n",
       "</div>"
      ],
      "text/plain": [
       "          encoded\n",
       "0                \n",
       "1               1\n",
       "2            1,-1\n",
       "3             1,0\n",
       "4             1,1\n",
       "5         1,-1,-1\n",
       "6          1,-1,0\n",
       "7          1,-1,1\n",
       "8          1,0,-1\n",
       "9           1,0,0\n",
       "10          1,0,1\n",
       "11         1,1,-1\n",
       "12          1,1,0\n",
       "13          1,1,1\n",
       "14     1,-1,-1,-1\n",
       "15      1,-1,-1,0\n",
       "16      1,-1,-1,1\n",
       "17      1,-1,0,-1\n",
       "18       1,-1,0,0\n",
       "19       1,-1,0,1\n",
       "20      1,-1,1,-1\n",
       "21       1,-1,1,0\n",
       "22       1,-1,1,1\n",
       "23      1,0,-1,-1\n",
       "24       1,0,-1,0\n",
       "25       1,0,-1,1\n",
       "26       1,0,0,-1\n",
       "27        1,0,0,0\n",
       "28        1,0,0,1\n",
       "29       1,0,1,-1\n",
       "30        1,0,1,0\n",
       "31        1,0,1,1\n",
       "32      1,1,-1,-1\n",
       "33       1,1,-1,0\n",
       "34       1,1,-1,1\n",
       "35       1,1,0,-1\n",
       "36        1,1,0,0\n",
       "37        1,1,0,1\n",
       "38       1,1,1,-1\n",
       "39        1,1,1,0\n",
       "40        1,1,1,1\n",
       "41  1,-1,-1,-1,-1\n",
       "42   1,-1,-1,-1,0"
      ]
     },
     "execution_count": 16,
     "metadata": {},
     "output_type": "execute_result"
    }
   ],
   "source": [
    "pandas.DataFrame({\n",
    "    \"encoded\":[\",\".join(str(j) for j in encode(i)) for i in range(43) ],\n",
    "})\n"
   ]
  },
  {
   "cell_type": "code",
   "execution_count": null,
   "metadata": {
    "collapsed": true
   },
   "outputs": [],
   "source": []
  },
  {
   "cell_type": "markdown",
   "metadata": {},
   "source": [
    "## And finally we use this system to encode a numpy array into a single integer"
   ]
  },
  {
   "cell_type": "code",
   "execution_count": 17,
   "metadata": {
    "collapsed": true
   },
   "outputs": [],
   "source": [
    "a = np.array( [[ 1,  0,  0,  0,  1,  0, -1,  0],\n",
    "               [ 0,  0,  0,  1,  0,  1,  0,  0],\n",
    "               [-1,  0, -1,  0, -1,  1,  0,  1],\n",
    "               [ 0,  0,  0,  0,  0,  0,  0,  0],\n",
    "               [ 1,  0,  0,  1,  0,  0, -1,  1],\n",
    "               [ 1,  0, -1,  0,  0,  0,  0,  1],\n",
    "               [ 0,  0,  0,  0, -1,  0,  0,  1],\n",
    "               [ 0,  0,  0, -1,  0,  0,  0,  0]], dtype=np.int32)"
   ]
  },
  {
   "cell_type": "code",
   "execution_count": 18,
   "metadata": {},
   "outputs": [
    {
     "data": {
      "text/plain": [
       "array([[ 1,  0,  0,  0,  1,  0, -1,  0],\n",
       "       [ 0,  0,  0,  1,  0,  1,  0,  0],\n",
       "       [-1,  0, -1,  0, -1,  1,  0,  1],\n",
       "       [ 0,  0,  0,  0,  0,  0,  0,  0],\n",
       "       [ 1,  0,  0,  1,  0,  0, -1,  1],\n",
       "       [ 1,  0, -1,  0,  0,  0,  0,  1],\n",
       "       [ 0,  0,  0,  0, -1,  0,  0,  1],\n",
       "       [ 0,  0,  0, -1,  0,  0,  0,  0]], dtype=int32)"
      ]
     },
     "execution_count": 18,
     "metadata": {},
     "output_type": "execute_result"
    }
   ],
   "source": [
    "a"
   ]
  },
  {
   "cell_type": "code",
   "execution_count": 19,
   "metadata": {},
   "outputs": [
    {
     "data": {
      "text/plain": [
       "1157128765853564328061712266998"
      ]
     },
     "execution_count": 19,
     "metadata": {},
     "output_type": "execute_result"
    }
   ],
   "source": [
    "decode(a.flatten())"
   ]
  },
  {
   "cell_type": "markdown",
   "metadata": {},
   "source": [
    "**So that entire 8x8 array can be represented as a single integer.**"
   ]
  },
  {
   "cell_type": "markdown",
   "metadata": {},
   "source": [
    "Let's check that we get back our original data if we decode it:"
   ]
  },
  {
   "cell_type": "code",
   "execution_count": 20,
   "metadata": {},
   "outputs": [
    {
     "data": {
      "text/plain": [
       "array([[ 1,  0,  0,  0,  1,  0, -1,  0],\n",
       "       [ 0,  0,  0,  1,  0,  1,  0,  0],\n",
       "       [-1,  0, -1,  0, -1,  1,  0,  1],\n",
       "       [ 0,  0,  0,  0,  0,  0,  0,  0],\n",
       "       [ 1,  0,  0,  1,  0,  0, -1,  1],\n",
       "       [ 1,  0, -1,  0,  0,  0,  0,  1],\n",
       "       [ 0,  0,  0,  0, -1,  0,  0,  1],\n",
       "       [ 0,  0,  0, -1,  0,  0,  0,  0]])"
      ]
     },
     "execution_count": 20,
     "metadata": {},
     "output_type": "execute_result"
    }
   ],
   "source": [
    "np.array(encode(1157128765853564328061712266998)).reshape((8,8))"
   ]
  }
 ],
 "metadata": {
  "kernelspec": {
   "display_name": "Python 3",
   "language": "python",
   "name": "python3"
  },
  "language_info": {
   "codemirror_mode": {
    "name": "ipython",
    "version": 3
   },
   "file_extension": ".py",
   "mimetype": "text/x-python",
   "name": "python",
   "nbconvert_exporter": "python",
   "pygments_lexer": "ipython3",
   "version": "3.5.2"
  }
 },
 "nbformat": 4,
 "nbformat_minor": 2
}
